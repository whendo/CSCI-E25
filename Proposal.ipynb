{
  "nbformat": 4,
  "nbformat_minor": 0,
  "metadata": {
    "colab": {
      "provenance": [],
      "authorship_tag": "ABX9TyNhVDqooWG8T+thaE49KK4y",
      "include_colab_link": true
    },
    "kernelspec": {
      "name": "python3",
      "display_name": "Python 3"
    },
    "language_info": {
      "name": "python"
    }
  },
  "cells": [
    {
      "cell_type": "markdown",
      "metadata": {
        "id": "view-in-github",
        "colab_type": "text"
      },
      "source": [
        "<a href=\"https://colab.research.google.com/github/whendo/CSCI-E25/blob/master/Proposal.ipynb\" target=\"_parent\"><img src=\"https://colab.research.google.com/assets/colab-badge.svg\" alt=\"Open In Colab\"/></a>"
      ]
    },
    {
      "cell_type": "markdown",
      "source": [
        "CSCI E-25, Computer Vision\\\n",
        "Bill Henderson\n"
      ],
      "metadata": {
        "id": "VSdYHcUs8Xc4"
      }
    },
    {
      "cell_type": "markdown",
      "source": [
        "# Proposal: Protected Bird Binary Classification for Wireless Operations Support"
      ],
      "metadata": {
        "id": "e-zSq4-y8qJk"
      }
    },
    {
      "cell_type": "markdown",
      "source": [
        "## Problem Statement\n",
        "Wireless tower crews have an expensive and sensitive ecological issue in many regions of the world. The issue is migratory bird paths which coincide with tower sites.\n",
        "\n",
        "Migratory birds are protected by many environmental laws and procedures to ensure their safety and to avoid disturbing them in their natural environment as much as possible. This means specialty crews that must be used to handle work on the tower, or for them to relocate the animals to a safer place for work to continue. These crews are not cheap, so many wireless providers are using camera drones to collect information about the state of the tower and any wildlife that may reside there currently.\n",
        "\n",
        "Since drone piloting and birdwatching and identification aren’t necessarily intersecting skill sets, a binary classifier stating if a protected bird is in or on the tower could be a cost saving tool for wireless providers to use, giving timely advice for field teams to base their activities.\n"
      ],
      "metadata": {
        "id": "ZAuzviN08urI"
      }
    },
    {
      "cell_type": "markdown",
      "source": [
        "## Project Goals\n",
        "The Code of Federal Regulations (CFR) Title 50 Part 10.13 outlines the protected bird species from the Migratory Bird Treaty Act. The proposed project will act as a proof of concept to build a model that will classify if a bird is covered under Title 50 Part 10.13 or not. This model will make use of initial data set sorting and management, image preprocessing, feature extraction, and a multilayer convolutional neural network. Particular focus will be paid to minimizing false negatives, which could be dangerous for the protected bird and expensive for the company using the tool. The training and test data set come from a public data set."
      ],
      "metadata": {
        "id": "mo5PuizV84a1"
      }
    },
    {
      "cell_type": "markdown",
      "source": [
        "## Dataset\n",
        "The dataset I'm using is the Birds 525 Species Image Classification dataset from Kaggle. This dataset has 84635 training images, 2625 test images, and 2625 validation images where the test and validation sets have five images of each species.\n",
        "\n",
        "The 2.11 GB dataset is of very high quality, where 50% or more of the pixels is of the bird alone, as well as all images being originals without augmentation.\n",
        "\n",
        "Resolution for the dataset is 224 X 224 X 3 in jpg format. Each set (training, test, validation) are broken up into 525 subdirectories by species. This directory format is what's required by the Keras ImageDataGenerator.flow_from_directory module, easing import of the images."
      ],
      "metadata": {
        "id": "cAYKRaP0-JYr"
      }
    },
    {
      "cell_type": "markdown",
      "source": [
        "## Testing Hardware\n",
        "I will use Google Colab as a development environment and Google Drive for data storage. I will most likely end up using Colab Pro resources during the training protion of the project due to the high number of images and more intensive model I plan to use."
      ],
      "metadata": {
        "id": "E7ymGAYr-VgT"
      }
    },
    {
      "cell_type": "markdown",
      "source": [
        "## Computer Vision Pipeline\n",
        "The planned data flow for this project is the following:\n",
        "\n",
        "1.   Input Data\n",
        "2.   Preprocesing\n",
        "3.   ML Model\n",
        "\n"
      ],
      "metadata": {
        "id": "u397PuOi-NGj"
      }
    },
    {
      "cell_type": "markdown",
      "source": [
        "### Input Data\n",
        "The Birds 525 data structure is very deep and valuable if we needed each and every bird type in the dataset, but as we are only looking for a positive or negative match to a protected animal, some preprocessing will be necessary. Also, for this project we're focusing on birds seen in the Lower Rio Grande Valley, which will be a subset of the 1107 birds defined in CFR Title 50.\n",
        "\n",
        "First the list of birds in the updated Title 50 list will be checked against the 525 Birds in our dataset. These birds will be our postive matches. The images will then be reorganized in a Keras friendly file format per our binary classification, identified protected bird as 1 and non protected bird as 0. This reordering will make the classification very clear when we get to it, as well as save us some code later when analyzing performance."
      ],
      "metadata": {
        "id": "seoF9ph0-bH8"
      }
    },
    {
      "cell_type": "markdown",
      "source": [
        "### Preprocessing\n",
        "Luckily, the Birds 525 dataset is at a very convienent resolution of 224 x 224 x 3, which will be very managable for our model. And initial attempt will be made with the data as is, seeing how the model performs in a good image environment.\n",
        "\n",
        "I will also run some iteration with some preprocessing variation to better simulate real world conditions and hopefully provide some resilliance to adverse conditions or gain some performance. I will do the following alterations independently and mixed to the training set:\n",
        "\n",
        "\n",
        "*   conversion to grayscale\n",
        "*   image noise addition\n",
        "*   random image augmentation like rotation and shifting\n",
        "*   saturation and desaturation\n",
        "*   scaling\n",
        "\n",
        "After the processing the pixel matrix will be flattened and sent to the model.\n",
        "\n"
      ],
      "metadata": {
        "id": "ssoz14ILCbWk"
      }
    },
    {
      "cell_type": "markdown",
      "source": [
        "### ML Model\n",
        "As this application doesn't require real time image or video processing and can allow for a little time for identification, I chose a more detailed model in hopes to maximize accuracy. The chosen model is a pretrained EfficientNet model. I'll start with the imageNet weights and Adam optimizer, training on our traning set, initially with the clean images, and later with the preprocessing variation stated above."
      ],
      "metadata": {
        "id": "kzIhLzgs-Tg-"
      }
    },
    {
      "cell_type": "markdown",
      "source": [
        "## Conclusion\n",
        "This proposal is, as stated, a proposal, and will be the starting point for this project. I expect some issues to be encountered and some alterations to the above procedures and choice can be expected.\n",
        "\n",
        "The final product will be an optimized computer vision model to verify if a bird is a protected species in the Lower Rio Grande Valley"
      ],
      "metadata": {
        "id": "hbyQrxe1Cipg"
      }
    },
    {
      "cell_type": "markdown",
      "source": [
        "## References\n",
        "* https://www.ecfr.gov/current/title-50/section-10.13\n",
        "50 CFR 10.13\n",
        "\n",
        "* https://www.kaggle.com/datasets/gpiosenka/100-bird-species\n"
      ],
      "metadata": {
        "id": "wxORhOi79KGI"
      }
    },
    {
      "cell_type": "code",
      "execution_count": null,
      "metadata": {
        "id": "LI56ROR58L4S"
      },
      "outputs": [],
      "source": []
    }
  ]
}