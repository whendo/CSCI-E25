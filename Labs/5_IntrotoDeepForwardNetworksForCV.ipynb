{
  "cells": [
    {
      "cell_type": "markdown",
      "metadata": {
        "id": "nSk47i-iWQlv"
      },
      "source": [
        "# CSCI E-25     \n",
        "\n",
        "## Introduction to Deep Neural Networks\n",
        "\n",
        "## Steve Elston\n",
        "\n",
        "## 1.0 Overview\n",
        "\n",
        "This lesson introduces you to the basics of neural network architecture in the form of deep forward networks. This architecture is the quintessential deep neural net architecture. In this lesson you will master the following:\n",
        "\n",
        "- Why is deep learning important and how it relates to representation, learning and inference.\n",
        "- How a basic Preceptron works.\n",
        "- How to apply different types of loss functions.\n",
        "- Understand why nonlinear activation is important and why rectified linear units are a good choice.\n",
        "- How back propagation works, and how you apply the chain rule of calculus to determine gradient.\n",
        "- Understand the architectural trade-off between depth and width in deep networks.\n",
        "- Know how and why you must apply regularization to deep neural networks.  \n",
        "- The importance of learning rate in training deep neural networks."
      ]
    },
    {
      "cell_type": "markdown",
      "metadata": {
        "id": "UOOCkUWyWQlx"
      },
      "source": [
        "### 1.1 Why is deep learning important?\n",
        "\n",
        "Deep learning methods are a form of **artificial intelligence (AI)** or **machine intelligence**. More specifically, deep learning algorithms are a type of **machine learning**.\n",
        "\n",
        "What properties does machine intelligence require? There have been many answers to this question over the history of computing. In this case, we will take a practical view, sometimes known as **weak AI**. There are three key properties an intelligent machine must have. Deep learning algorithms are one of a few classes of algorithms that can do the following, essential to machine intelligence:\n",
        "\n",
        "1. **Representation:** An intelligent machine must be able to represent a model of the world it interacts with in a general manner. Representation is key to intelligence. Without a good representation the best learning and inference algorithms will struggle. Whereas, good representation can greatly facilitate learning and inference. In conventional machine learning the representation is model and a set of features. The representation is limited to what the features can provide directly. Deep learning algorithms, on the other hand, learn learn complex representations from raw features. This behavior allows deep learning algorithms to approximate complex relationships. Further, the representations learned often generalize well, up to a point.\n",
        "2. **Learning:** As you likely guessed from the very name, deep learning algorithms learn from data. Whereas, conventional machine learning is focused on inference,deep learning algorithms learn both inference and representations. As a result, deep leaning algorithms are more complex and therefore harder to train than conventional machine learning algorithms.  \n",
        "3. **Inference:** Any machine intelligence algorithm must be able to perform inference. The inference is the result produced given new input data. To be useful, the inferences produced by a machine intelligence algorithm must **generalize** beyond the cases used for learning or training. Good generalization requires both good representations and learning which can deal with the complexity of diverse situations. Some deep learning algorithms can approach human levels of performance in inference tasks such as recognizing objects in images or understanding natural speech.\n",
        "\n",
        "The figure below shows a highly abstracted view of machine intelligence, showing the relationship between representation, learning and inference. In simple terms, the representation is learned and then used to make inferences. Errors in the inferences can be used to improve the learning of the representation.   \n",
        "\n",
        "<img src=\"https://github.com/whendo/CSCI-E25/blob/assignment5/Labs/img/MachineIntelligence.JPG?raw=1\" alt=\"Drawing\" style=\"width:600px; height:300px\"/>\n",
        "\n",
        "<center>Schematic for creating machine intelligence</center>\n",
        "\n",
        "**That's it!** The entire rest of this course will focus on just these three points: representation, learning and inference!"
      ]
    },
    {
      "cell_type": "markdown",
      "metadata": {
        "id": "4U-UfmEqWQlx"
      },
      "source": [
        "### 1.2 Installing Keras\n",
        "\n",
        "This notebook will provides a first look at using the Keras package to define, train and evaluate deep learning models with Keras. The Keras package is a wrapper on TensorFlow, intended to abstract and simplify the definition, training and execution of TensorFlow deep learning models. You can find extensive well-written documentation for Keras [here](https://keras.io/). The book [Deep Learning with Python](https://www.manning.com/books/deep-learning-with-python-second-edition) by François Chollet, the creator of Keras, provides in-depth examples and discussion on a wide range of deep learning applications.      \n",
        "\n",
        "By the end of this lesson you will be able to work with basic feedforward architecture multi-layer neural nets. Feedforward networks are one of a class of basic models called **sequential models** which are easy to define with Keras. Some basic regularization is introduced. Additional regularization methods are covered in a subsequent lesson.\n",
        "\n",
        "Keras is part of the base package, as of the release of TensorFlow 2. Before proceeding make sure you have TensorFlow 2 installed in your environment. [Follow these instructions.](https://www.tensorflow.org/install).    \n",
        "\n",
        "****\n",
        "**Note:** As an alternative to working with a local installation, you may choose to use the [Google Colabratory](https://colab.research.google.com/?utm_source=scs-index). The Colabrotory virtual environment includes Anaconda, TensorFlow and Keras. However, the use of shared resources can result in slow execution.    \n",
        "****\n",
        "\n",
        "****\n",
        "**Note:** This notebook was constructed and tested using Anaconda 3 with Python 3. It is assumed that the standard Anaconda stack has been installed.\n",
        "****"
      ]
    },
    {
      "cell_type": "code",
      "source": [
        "!pip install np_utils"
      ],
      "metadata": {
        "id": "gpmxnG-TW1q5",
        "outputId": "67af21a2-d74f-4ade-98e0-1b87e756f949",
        "colab": {
          "base_uri": "https://localhost:8080/"
        }
      },
      "execution_count": 3,
      "outputs": [
        {
          "output_type": "stream",
          "name": "stdout",
          "text": [
            "Collecting np_utils\n",
            "  Downloading np_utils-0.6.0.tar.gz (61 kB)\n",
            "\u001b[?25l     \u001b[90m━━━━━━━━━━━━━━━━━━━━━━━━━━━━━━━━━━━━━━━━\u001b[0m \u001b[32m0.0/62.0 kB\u001b[0m \u001b[31m?\u001b[0m eta \u001b[36m-:--:--\u001b[0m\r\u001b[2K     \u001b[90m━━━━━━━━━━━━━━━━━━━━━━━━━━━━━━━━━━━━━━━━\u001b[0m \u001b[32m62.0/62.0 kB\u001b[0m \u001b[31m2.1 MB/s\u001b[0m eta \u001b[36m0:00:00\u001b[0m\n",
            "\u001b[?25h  Preparing metadata (setup.py) ... \u001b[?25l\u001b[?25hdone\n",
            "Requirement already satisfied: numpy>=1.0 in /usr/local/lib/python3.10/dist-packages (from np_utils) (1.25.2)\n",
            "Building wheels for collected packages: np_utils\n",
            "  Building wheel for np_utils (setup.py) ... \u001b[?25l\u001b[?25hdone\n",
            "  Created wheel for np_utils: filename=np_utils-0.6.0-py3-none-any.whl size=56439 sha256=52aa33398841b66f920e79a7a2d51e01c9e39cc4621ae7808a15e9d1a3b9e1ff\n",
            "  Stored in directory: /root/.cache/pip/wheels/b6/c7/50/2307607f44366dd021209f660045f8d51cb976514d30be7cc7\n",
            "Successfully built np_utils\n",
            "Installing collected packages: np_utils\n",
            "Successfully installed np_utils-0.6.0\n"
          ]
        }
      ]
    },
    {
      "cell_type": "code",
      "execution_count": 4,
      "metadata": {
        "id": "Se321hTJWQly"
      },
      "outputs": [],
      "source": [
        "from keras.datasets import mnist\n",
        "import tensorflow as tf\n",
        "import np_utils as ku\n",
        "## Depending on your environment and verison of Keras and Tensorflow you may need to\n",
        "## substitue the following import for the foregoing'\n",
        "## from keras import np_utils as ku\n",
        "import keras.models as models\n",
        "import keras.layers as layers\n",
        "from keras.optimizers import RMSprop\n",
        "from tensorflow.keras.optimizers.schedules import ExponentialDecay\n",
        "from keras import regularizers\n",
        "import numpy as np\n",
        "from math import exp\n",
        "import matplotlib.pyplot as plt\n",
        "import seaborn as sns\n",
        "\n",
        "%matplotlib inline"
      ]
    },
    {
      "cell_type": "markdown",
      "metadata": {
        "id": "JDaGqm-2WQlz"
      },
      "source": [
        "## 2.0 Forward propagation: The representation problem\n",
        "\n",
        "To create useful neutral network we need a **representation** that has two important properties.   \n",
        "\n",
        "First, there needs to be a way to represent complex functions of the input. Without this property, nothing is gained, since there are numerous machine learning algorithms that work with simple representations. We will spend the rest of this section exploring this problem.   \n",
        "\n",
        "Second, the representation needs to be learnable. Quite obviously, no machine intelligence representation is useful if there is not a practical algorithm to learn it. We will take up this problem in another section."
      ]
    },
    {
      "cell_type": "markdown",
      "metadata": {
        "id": "ouphkK-GWQlz"
      },
      "source": [
        "### 2.1 Linear networks\n",
        "\n",
        "Let's start with the simplest possible network. It has inputs, and an output. The output is a **afine transformation** of the input values. We say this network performs an afine transformation since there is a bias term $b$.\n",
        "\n",
        "\n",
        "<img src=\"https://github.com/whendo/CSCI-E25/blob/assignment5/Labs/img/LinearNetwork.JPG?raw=1\" alt=\"Drawing\" style=\"width:400px; height:250px\"/>\n",
        "\n",
        "<center>**Figure 2.1**\n",
        "**A simple afine network**</center>\n",
        "\n",
        "This output $y$ of this network is just:\n",
        "\n",
        "$$y = f(x) = \\sum_i w_i \\cdot x_i + b$$\n",
        "\n",
        "This network performs linear regression. Being able to perform only afine transformations, it can't do anything else.\n",
        "\n",
        "This representation is certainly learnable. However, it does not gain us anything over familiar linear regression methods."
      ]
    },
    {
      "cell_type": "markdown",
      "metadata": {
        "id": "3Y9CtluVWQlz"
      },
      "source": [
        "### 2.2 The preceptron"
      ]
    },
    {
      "cell_type": "markdown",
      "metadata": {
        "id": "M6eRbNCFWQlz"
      },
      "source": [
        "To get started, let's have a look at a simple **preceptron** model. The perceptron was proposed by Rosenblatt (1962). He built on the earlier attempts at a neural network models by McCulloch and Pitts (1943) and Heeb (1949). The perceptron adds **nonlinear activation** to the afine network.\n",
        "\n",
        "\n",
        "<img src=\"https://github.com/whendo/CSCI-E25/blob/assignment5/Labs/img/Preceptron.JPG?raw=1\" alt=\"Drawing\" style=\"width:350px; height:250px\"/>\n",
        "<center>Figure 2.2 Schematic of perceptron with nonlinear activation</center>\n",
        "\n",
        "The output $y$ of the perceptron is given by the following:\n",
        "\n",
        "$$y = f(x) = \\sigma \\Big( \\sum_i w_i \\cdot x_i + b \\Big)$$\n",
        "\n",
        "The output of the network is now nonlinear, give the **activation function** $\\sigma(x)$.\n",
        "\n",
        "But, the preceptron is nothing more than a logistic regression classifier. The fact that the preceptron could only solve linearly separable problems was pointed out by Minsky and Papert (1969). The failure of the preceptron to learn an **exclusive or (XOR)** function is well known. See for example, Section 6.1 in GBC.\n",
        "\n",
        "Again, this representation is certainly learnable. However, as before, it does not gain us anything over well known logistic regression models."
      ]
    },
    {
      "cell_type": "markdown",
      "metadata": {
        "id": "Y0g02WKfWQlz"
      },
      "source": [
        "### 2.3 Forward networks - We're gonna need a better representation!\n",
        "\n",
        "The problem with the  perceptron is one of representations. There is no way that this simple network can represent anything but a linearly separable function. To represent more complex functions, we need a more complex network. In more technical terms we need a network with greater **model capacity**.\n",
        "\n",
        "What we need is a network with layers of **hidden nodes**. The figure below shows a simple example of a neural network with one **hidden layer** with two nodes. Since every node (including inputs) is connected to every other node we call this architecture a **fully connected neural network**.\n",
        "\n",
        "\n",
        "<img src=\"https://github.com/whendo/CSCI-E25/blob/assignment5/Labs/img/Hidden.JPG?raw=1\" alt=\"Drawing\" style=\"width:600px; height:350px\"/>\n",
        "<center>**Figure 2.3  \n",
        "Fully connected neural network with single hidden layer**</center>\n",
        "\n",
        "Let's walk through some aspects of these diagrams.\n",
        "\n",
        "1. The neural network is divided into three layers. The input layer, the hidden layer and the output layer.\n",
        "2. The values in the input layer are multiplied by a weight matrix, $W^1$.\n",
        "3. The nodes in the hidden layer sum their inputs and add a bias term, $b^1$.\n",
        "4. The outputs of the hidden layer nodes are multiplied by a weight vector, $W^2$.\n",
        "5. The output layer sums the inputs and adds another bias term, $b^2$."
      ]
    },
    {
      "cell_type": "markdown",
      "metadata": {
        "id": "1EsEXn9YWQl0"
      },
      "source": [
        "### 2.4 Neural network architectures - Finding representations\n",
        "\n",
        "The representations achievable by neural network with just a single hidden layer  are quite powerful. In fact, Cybenko (1989) showed that such a network with an infinite number of hidden units using sigmoidal activation can approximate any arbitrary function. Hornik (1991) generalized this to apply to any activation function. We call this theorem the **universal approximation theorem**.  \n",
        "\n",
        "A universal approximation theorem may see like a really exciting development; especially if you are a machine intelligence nerd. However, one must be circumspect when viewing such a result. A representation with an infinite number of nodes cannot be learned in any practical sense. Still it is comforting to know that, at least in principle, a representation can be learned for arbitrarily complex problems.\n",
        "\n",
        "While infinitely wide networks with a single layer are unrealistic, we are not limited to one dimension. In fact, depth is typically more effective at creating complex representations rather than width in neural networks. Depth is measured by the count of hidden layers stacked one on top of the other in the network. Hence, the term deep neural networks.\n",
        "\n",
        "The Figure 2.4 below shows the results of an empirical study by Goodfellow, Shlens and Szegedy (2014) of accuracy of the network vs depth. Notice that accuracy increases rapidly with depth until about 8 layers, after which the effect is reduced.\n",
        "\n",
        "\n",
        "<img src=\"https://github.com/whendo/CSCI-E25/blob/assignment5/Labs/img/Accuracy-Layers.JPG?raw=1\" alt=\"Drawing\" style=\"width:600px; height:350px\"/>\n",
        "<center>Figure 2.4 Empirical results of accuracy vs. number of layers  \n",
        "Diagram from Goodfellow et. al. 2014</center>\n",
        "\n",
        "Another view of the empirical study by Goodfellow et. al. is shown in Figure 2.5 below. In this case accuracy verses number of model parameters is compared for three different network architectures. The deeper network (11 layers) makes more  efficient use of the parameters in terms of improved accuracy. The number of parameters in a layer is approximately the total number of parameters divided by the number of layers. Notice that for the particular case tested convolutional neural networks are more efficient than fully-connected networks. We will discuss convolutional neural networks in a subsequent lesson.\n",
        "\n",
        "Of particular interest is the fact that the fully-connected network and the shallow convolutional neural network appear to be over-fitting as the test accuracy actually decreases as the number of parameters increases. We will discuss the significant problems of over-fitting in neural networks in a subsequent lesson.\n",
        "\n",
        "\n",
        "<img src=\"https://github.com/whendo/CSCI-E25/blob/assignment5/Labs/img/Accuracy-Parameters.JPG?raw=1\" alt=\"Drawing\" style=\"width:600px; height:350px\"/>\n",
        "<center>**Figure 2.5 Empirical results of accuracy for different network architectures**  \n",
        "Diagram from Goodfellow et. al. 2014</center>\n",
        "\n",
        "**Summary:** Deep networks tend to produce better models, with less tendency to over-fit, for a given level of complexity."
      ]
    },
    {
      "cell_type": "markdown",
      "metadata": {
        "id": "faTw8byuWQl0"
      },
      "source": [
        "### 2.5 Computational graphs\n",
        "\n",
        "There is another way to look at neural nets, computational graphs. A computational graph breaks down the steps of a complex algorithm into steps.\n",
        "\n",
        "Computational graphs provide a way to organize complex computations in an efficient manner. Widely used computational frameworks such as Tensor Flow, CNTK, and Torch all use computational graphs. Organizing computations in a graph allows these platform to minimize memory transfers. In simple terms, the platform can look ahead in the graph and organize data and computational results so as to minimize memory transfers. As a result, such platforms can be significantly faster than, say, Python Numpy. Systems like Numpy require memory transfer before each operation, which typically take more time than the actual computation.\n",
        "\n",
        "The diagram below decomposes the single hidden layer neural network discussed in the previous section into a computational graph.\n",
        "\n",
        "\n",
        "<img src=\"https://github.com/whendo/CSCI-E25/blob/assignment5/Labs/img/CompGraph1.JPG?raw=1\" alt=\"Drawing\" style=\"width:600px; height:300px\"/>\n",
        "<center>**Figure 2.6  \n",
        "Computational graph for fully connected neural network of Figure 2.3** </center>\n",
        "\n",
        "Let's walk though this graph, step by step.\n",
        "\n",
        "1. The $nX2$ weight tensor, $W^1$, is multiplied by the 1-dimensional input tensor $x \\in\\ R^n$, giving  the result $U^1 \\in\\ R^2$.\n",
        "2. The 1-dimensional bias tensor $b^1 \\in\\ R^2$ is added to $U^1$, giving $U^2 \\in\\ R^2$.\n",
        "2. The activation function $\\sigma_h(x)$ is applied to $U^2$, producing $U^3 \\in\\ R^2$\n",
        "3. The dot product between the weight tensor, $W^2 \\in\\ R^2$ and $U^3$ is computed giving $U^4 \\in\\ R^1$.\n",
        "4. The bias, $b^2 \\in\\ R^1$ is added to $U^4$ giving $U^5 \\in\\ R^1$.\n",
        "5. The output activation function $\\sigma_o(x)$ is applied to $U^4$ giving the output $Y \\in\\ R^1$.\n",
        "\n",
        "As you can see, the computational graph provides a complete specification for the single hidden layer neural network."
      ]
    },
    {
      "cell_type": "markdown",
      "metadata": {
        "id": "QINIgrhtWQl0"
      },
      "source": [
        "### 2.6 Activation functions\n",
        "\n",
        "Without a nonlinear activation function, a neural net is just an afine transformation. Afine transformations limit representation to only linearly separable functions. To create more general representations **nonlinear activation functions** are required.\n",
        "\n",
        "In present practice, four types of activation functions are generally used for fully connected networks.\n",
        "\n",
        "1. **Linear** activation is used for the output layer of regression neural networks.\n",
        "2. The **rectilinear** activation function is used for most hidden units. The rectilinear activation function is often referred to as **ReLU**.\n",
        "3. A **leaky rectilinear** activation acts like a ReLU function for positive inputs, but has a small negative bias or leakage for negative input values. The leaky ReLU activation function can improve training for some deep neural networks.\n",
        "3. The **logistic** or **sigmoid** activation function is used for binary classifiers.\n",
        "4. The **softmax** activation function is used for multi-class classifiers.\n",
        "\n",
        "Rectilinear functions are typically used as the activation function for hidden units in neural networks. The rectilinear function is defined at:\n",
        "\n",
        "$$f(x) = max(0, x)$$\n",
        "\n",
        "The rectilinear function is linear for positive responses and zero for responses less than 0.0. Notice that the derivatives of the rectilinear function are not continuous. While this might seem to be a problem, in practice, even gradient-based optimization functions work well with this activation function.\n",
        "\n",
        "The rectilinear function is plotted in the cell below:"
      ]
    },
    {
      "cell_type": "code",
      "execution_count": 5,
      "metadata": {
        "id": "zzYEPh7AWQl0",
        "outputId": "3136df2f-c184-4bad-e4d2-f2f4e1c0e5e7",
        "colab": {
          "base_uri": "https://localhost:8080/",
          "height": 564
        }
      },
      "outputs": [
        {
          "output_type": "display_data",
          "data": {
            "text/plain": [
              "<Figure size 800x600 with 1 Axes>"
            ],
            "image/png": "[encoded data removed]"
          },
          "metadata": {}
        }
      ],
      "source": [
        "def reclu(x): return(max(0,x))\n",
        "\n",
        "def plot_figs(x,y,title, figsize = (8, 6)):\n",
        "    plt.figure(figsize=figsize).gca() # define axis\n",
        "    sns.set_style(\"darkgrid\")\n",
        "    plt.plot(x, y)\n",
        "    plt.ylim((-0.1,1.1))\n",
        "    plt.title(title)\n",
        "    plt.xlabel('X')\n",
        "    plt.ylabel('Y')\n",
        "\n",
        "x = np.linspace(-1.0, 1.0, 200)\n",
        "y = [reclu(y) for y in x]\n",
        "plot_figs(x,y,'The Rectilinear Function')"
      ]
    },
    {
      "cell_type": "markdown",
      "metadata": {
        "id": "Pm26ulGYWQl1"
      },
      "source": [
        "Another widely used activation function is the **logistic** or **sigmoid**. The sigmoid is used as the activation for the output layer of a binary classifier. The general sigmoid function can be written as:\n",
        "\n",
        "$$\\sigma(x) = \\frac{L}{1 + e^{-k(x_0-x)}}\\\\\n",
        "where\\\\\n",
        "L = max\\ value\\\\\n",
        "k = slope\\\\\n",
        "x_0 = sigmoid\\ midpoint$$\n",
        "\n",
        "With $L=1$, $k=1$, and $x_0 = 0$, the logistic function becomes:\n",
        "\n",
        "$$\\sigma(x) = \\frac{1}{1 + e^{-x}} = \\frac{e^x}{1+e^x}$$\n",
        "\n",
        "The sigmoid function can asymptotically approach $0$ or $1$, but will never reach these extreme values. However, because of the rapid decrease in the derivative away from $0$ the sigmoid can **saturate** when using gradient-based training. For this reason, the sigmoid is typically not used for hidden layers in neural networks.   \n",
        "\n",
        "When used in a the binary classifier a threshold is set to determine if the result is $0$ or $1$. The threshold can be adjusted to bias the result as desired.\n",
        "\n",
        "The code in the cell below plots the sigmoid function."
      ]
    },
    {
      "cell_type": "code",
      "execution_count": 7,
      "metadata": {
        "id": "acJ7132sWQl1",
        "outputId": "23109f9d-6e05-408f-d7dc-38df19f8365b",
        "colab": {
          "base_uri": "https://localhost:8080/",
          "height": 564
        }
      },
      "outputs": [
        {
          "output_type": "display_data",
          "data": {
            "text/plain": [
              "<Figure size 800x600 with 1 Axes>"
            ],
            "image/png": "[encoded data removed]"
          },
          "metadata": {}
        }
      ],
      "source": [
        "def sigmoid(x): return exp(x)/(1 + exp(x))\n",
        "\n",
        "x = np.linspace(-8.0, 8.0, 200)\n",
        "y = [sigmoid(y) for y in x]\n",
        "plot_figs(x,y,'The Logistic Function') #, figsize = (5,3))"
      ]
    },
    {
      "cell_type": "markdown",
      "metadata": {
        "id": "jrYIU0rFWQl1"
      },
      "source": [
        "The **softmax** function or **normalized exponential function** is used for the output activation function of a multi-class classifiers. The softmax function is the multinomial generalization of the sigmoid or logistic function. The probability of each class $j$ is written as:\n",
        "\n",
        "$$\\sigma(z_j) = \\frac{e^{z_j}}{\\sum_{k=1}^K e^{z_k}}$$\n",
        "\n",
        "The normalization $\\sum_{k=1}^K e^{z_k}$ ensures the sum of probabilities for all classes add to $1.0$. The class selected by the classifier is the class with the largest value of $\\sigma(z_j)$."
      ]
    },
    {
      "cell_type": "markdown",
      "metadata": {
        "id": "rA3yIr8NWQl1"
      },
      "source": [
        "### 2.7 Computational example\n",
        "\n",
        "Now that we have gone though some basic theory for feed-forward networks, it's time try a simple example. You will construct a fully connected network to compute this simple function:\n",
        "\n",
        "$$y = x_1 - x_2$$\n",
        "\n",
        "****\n",
        "**Comment.** You have likely have noticed that this function is linear and can be computed easily without a neural network. Of course, that is not the point. We use a simple function to make the results easy to understand.\n",
        "****\n",
        "\n"
      ]
    },
    {
      "cell_type": "markdown",
      "metadata": {
        "id": "2Zkqu3MtWQl1"
      },
      "source": [
        "> **Exercise 5-1:** You will create and test a simple neural network implemented using matrix multiplication with Numpy. The architecture of the neural network is similar to the one shown in Figure 2.3, with 2 input units, 2 hidden units and 1 output unit. There are a total of 6 weights in two tensors. The neural network for this example does not require any bias terms.\n",
        "> 1. As a first step, create test data for 3 possibilities; $x_1 > x_2$, $x_1 = x_2$, and $x_1 <x_2$, and with positive and negative values, or $x = [(2,1), (1,1), (1,2), (0,0), (2,-1), (-1,-1), (-2,1), (-1,-2)]$ as the input tuples.\n",
        "> 2. Directly compute and print the evaluation of the function, $y = x_1 - x_2$, for each tuple.  \n",
        "\n",
        "> **Note:** The network you are asked to construct is simple and all weights must in the set $\\{-1, 1 \\}$. You can take advantage of the symmetry of the function you must approximate to determine these weights by inspection. If you wish, you will find it easy to compute the partial derivatives of the function to be approximated. However, this is not necessary if you carefully inspect the network and consider the responses required.\n"
      ]
    },
    {
      "cell_type": "code",
      "execution_count": 8,
      "metadata": {
        "id": "jM5jw_dBWQl1",
        "outputId": "da5fed5e-55ce-4e86-d708-2d3f05ca57f0",
        "colab": {
          "base_uri": "https://localhost:8080/"
        }
      },
      "outputs": [
        {
          "output_type": "stream",
          "name": "stdout",
          "text": [
            "1\n",
            "0\n",
            "-1\n",
            "0\n",
            "3\n",
            "0\n",
            "-3\n",
            "1\n"
          ]
        }
      ],
      "source": [
        "## Your code goes here\n",
        "x = [(2,1), (1,1), (1,2), (0,0), (2,-1), (-1,-1), (-2,1), (-1,-2)]\n",
        "for x_in in x:\n",
        "    print(x_in[0] - x_in[1])"
      ]
    },
    {
      "cell_type": "markdown",
      "metadata": {
        "id": "ZRyxZBunWQl2"
      },
      "source": [
        "> 3. Now that you have the test data you can move to the next step. Determine the values of the $2 \\times 2$ weight tensor between the input layer and the hidden layer (input tensor) and the $2 \\times 1$ weight tensor between the hidden and output layer (output tensor). In the code cells below create as Numpy arrays and print these tensors. *Hint:* Keep in mind that the input tensor must be symmetric, with correct signs on the $\\{-1,1\\}$ weights. Likewise, the output tensor $\\{-1,1\\}$ weights must have the opposite signs.  "
      ]
    },
    {
      "cell_type": "code",
      "execution_count": 9,
      "metadata": {
        "id": "_xEQQh3MWQl2",
        "outputId": "f0476be0-73d4-438c-a47a-bf27ff3476fe",
        "colab": {
          "base_uri": "https://localhost:8080/"
        }
      },
      "outputs": [
        {
          "output_type": "stream",
          "name": "stdout",
          "text": [
            "[[ 1. -1.]\n",
            " [-1.  1.]]\n"
          ]
        }
      ],
      "source": [
        "## Your code goes here\n",
        "W_1 = np.array([[1.0, -1.0], [-1.0, 1.0]])\n",
        "print(W_1)"
      ]
    },
    {
      "cell_type": "code",
      "execution_count": 10,
      "metadata": {
        "id": "4PhuB-4iWQl2",
        "outputId": "6a2a884a-52e1-4e13-cba3-19395eeaecdb",
        "colab": {
          "base_uri": "https://localhost:8080/"
        }
      },
      "outputs": [
        {
          "output_type": "stream",
          "name": "stdout",
          "text": [
            "[ 1 -1]\n"
          ]
        }
      ],
      "source": [
        "## Your code goes here\n",
        "W_2 = np.array([1, -1])\n",
        "print(W_2)"
      ]
    },
    {
      "cell_type": "markdown",
      "metadata": {
        "id": "-ytE8KO0WQl2"
      },
      "source": [
        "> 4. Now, it is time to compute the results and check them. To create the computational process follow the graph in Figure 2.6, but ignoring the bias terms, $b^1$ and $b^2$.\n",
        "> Create a function, `hidden`, to compute the output of the hidden layer using the formulation with **rectalinear activation**, $\\delta()$:   \n",
        "> $$h = \\delta(W^1 \\cdot x)$$\n",
        "> Create a second function ,`output`, to computes the vector product of the weight vector with the output vector of the hidden layer using a **linear activation**:    \n",
        "> $$o = W^2 \\cdot h$$\n",
        "> 5. Execute the two functions while iterating over the input tuples and verify the output is correct. If not, reconsider the values of your weight tensors.   "
      ]
    },
    {
      "cell_type": "code",
      "execution_count": 11,
      "metadata": {
        "id": "tYA7oOjtWQl2",
        "outputId": "eec8e00b-5cc3-42e2-9231-1297290a5dc1",
        "colab": {
          "base_uri": "https://localhost:8080/"
        }
      },
      "outputs": [
        {
          "output_type": "stream",
          "name": "stdout",
          "text": [
            "1.0\n",
            "0\n",
            "-1.0\n",
            "0\n",
            "3.0\n",
            "0\n",
            "-3.0\n",
            "1.0\n"
          ]
        }
      ],
      "source": [
        "## Your code goes here\n",
        "def hidden(x, W):\n",
        "    \"\"\"Computes the output of the hidden layer\"\"\"\n",
        "    h = np.dot(W, x) # product of weights and input vector\n",
        "    return np.array([reclu(x) for x in h]) # apply activation function and return\n",
        "\n",
        "def output(h, W):\n",
        "    \"\"\"Computes the result for the hidden layer\"\"\"\n",
        "    return np.dot(W, h) # dot product of weight vector and input vector\n",
        "\n",
        "## Run the test cases and check the results\n",
        "for y in x:\n",
        "        h = hidden(y, W_1)\n",
        "        print(output(h, W_2))"
      ]
    },
    {
      "cell_type": "markdown",
      "metadata": {
        "id": "CT7i1GLGWQl2"
      },
      "source": [
        "> If your results agree with the function created above, congratulations! Your first fully connected neural network passed all the tests!  \n",
        "> **End of exercise**.\n",
        "\n",
        "Notice that even a network to compute a simple function requires 6 weights. You can see that for more complex functions any practical algorithm must learn a large number of weights. The limitations of Numpy would quickly become evident for large scale problems involving hundreds of millions of weights.\n",
        "\n",
        "****\n",
        "**Note:** If you are having difficulty following the Numpy code in the above example, you might want to look at [Scott Shell's Numpy Tutorial](https://engineering.ucsb.edu/~shell/che210d/numpy.pdf)\n",
        "****"
      ]
    },
    {
      "cell_type": "markdown",
      "metadata": {
        "id": "bUeRMKy3WQl2"
      },
      "source": [
        "> **Exercise 5-2:** You will now construct and test an neural network implementing an [exclusive or function, the XOR](https://en.wikipedia.org/wiki/Exclusive_or). The XOR function outputs a 1 if either input is 1 and the other 0, and a 0 otherwise. The truth table for the XOR function is:   \n",
        "\n",
        "$$\\begin{bmatrix}\n",
        "in_1 & in_2 &  out\\\\         \n",
        "0 & 0 & 0\\\\   \n",
        "1 & 0 & 1\\\\    \n",
        "0 & 1 & 1\\\\    \n",
        "1 & 1 & 0\n",
        "\\end{bmatrix}$$     \n",
        "\n",
        "\n",
        "> You can use the `hidden` and `output` functions you created for the previous exercise with new weight tensors. Make sure you try all 4 possible test cases.  "
      ]
    },
    {
      "cell_type": "code",
      "execution_count": 13,
      "metadata": {
        "id": "8hFR67CFWQl2",
        "outputId": "a49672c0-feab-4647-f30b-fdecdc97f39f",
        "colab": {
          "base_uri": "https://localhost:8080/"
        }
      },
      "outputs": [
        {
          "output_type": "stream",
          "name": "stdout",
          "text": [
            "0\n",
            "1.0\n",
            "1.0\n",
            "0\n"
          ]
        }
      ],
      "source": [
        "x = [(0,0), (1,0), (0,1), (1,1)]\n",
        "\n",
        "W_1 = np.array([[1.0, -1.0], [-1.0, 1.0]])\n",
        "\n",
        "W_2 = np.array([1, 1])\n",
        "\n",
        "## Run the test cases and check the results\n",
        "for y in x:\n",
        "        h = hidden(y, W_1)\n",
        "        print(output(h, W_2))"
      ]
    },
    {
      "cell_type": "markdown",
      "metadata": {
        "id": "SJ7MsOyXWQl3"
      },
      "source": [
        "> If your output agrees with the truth table, congratulations! You have solved the XOR problem using nonlinear activation.       \n",
        "> **End of exercise.**"
      ]
    },
    {
      "cell_type": "markdown",
      "metadata": {
        "id": "L2D7CCPJWQl3"
      },
      "source": [
        "## 3.0 Learning in neural networks: Backpropagation\n",
        "\n",
        "Now that we have a promising representation, we need to determine if it is trainable. The answer is not only yes we can, but that we can do so in a computationally efficient manner, using a cleaver algorithm known as **backpropagation**.\n",
        "\n",
        "The backpropagation algorithm was developed independently multiple times. The earliest work on this algorithm was by Kelly (1960) in the context of control theory and Bryson (1961) in the context of dynamic programming. Rumelhart, Hinton and Williams (1984) demonstrated empirically that backpropagation can be used to train neural networks. Their paper marks the beginning of the modern history of neural networks, and set off the first wave of enthusiasm.\n",
        "\n",
        "The backpropagation algorithm requires several components. First, we need a **loss function** to measure how well our representation matches the function we are trying to learn. Second, we need a way to propagate changes in the representation through the complex network For this we will use the **chain rule of calculus** to compute **gradients** of the representation. In the general case, this process requires using automatic differentiation methods.\n",
        "\n",
        "The point of backpropagration is to learn the optimal weight for the neural network. The algorithm proceeds iteratively through a series of small steps. Once we have the gradient of the loss function we can update the tensor of weights.\n",
        "\n",
        "$$W_{t+1} = W_t + \\alpha \\nabla_{W} J(W_t) $$  \n",
        "where  \n",
        "$W_t = $ the tensor of weights or model parameters at step $t$.   \n",
        "$\\alpha\\ = $ step size or learning rate.  \n",
        "$J(W) = $ loss function given the weights.  \n",
        "$\\nabla_{W} J(W) = $ gradient of $J$ with respect to the weights $W$.  \n",
        "\n",
        "It should be evident that the back propagation algorithm is a form of gradient decent. The weights are updated in small steps following the gradient of $J(W)$ down hill.\n",
        "\n",
        "Finally, we need a way evaluate the performance of the model. Without evaluation metrics we have no way to compare the performance of a given model, or compare the performance of several models.\n",
        "\n",
        "In the next sections, we will address each of loss functions, gradient computation and performance measurement."
      ]
    },
    {
      "cell_type": "markdown",
      "metadata": {
        "id": "urU7pOG1WQl3"
      },
      "source": [
        "### 3.1 Loss functions\n",
        "\n",
        "To train a neural network we must have a **loss function**, also known as a **cost function**. In simple terms, the loss function measures the fit of a model to the training data. The lower the loss, the better the fit.\n",
        "\n",
        "To train deep learning models **cross entropy** is often used as a loss function. This is an information theoretic measure of model fit. We can understand cross entropy as follows.\n",
        "\n",
        "First define **Shannon entropy** as:\n",
        "\n",
        "$$\\mathbb{H}(I) = E[I(X)] = E[-ln_b(P(X))] = - \\sum_{i=1}^n P(x_i) ln_b(P(x_i)$$  \n",
        "Where:  \n",
        "$E[X] = $ the expectation of $X$.  \n",
        "$I(X) = $ the information content of $X$.   \n",
        "$P(X) = $ probability of $X$.  \n",
        "$b = $ base of the logarithm.    \n",
        "\n",
        "This rather abstract formula gives us a way to compute the expected information content of a set of values $X$. The more likely (higher probability) of $X$ the less informative it is.\n",
        "\n",
        "To create a loss function from the definition of Shannon entropy we start with the **Kullback-Leibler divergence (KL divergence)** or **relative entropy**. The KL divergence is an information theoretic measure of the difference between two distributions, $P(X)$ and $Q(X)$.\n",
        "\n",
        "$$\\mathbb{D}_{KL}(P \\parallel Q) = - \\sum_{i=1}^n p(x_i)\\ ln_b \\frac{p(x_i)}{q(x_i)}$$\n",
        "\n",
        "Ideally, in the case of training a machine learning model we want a distribution $Q(X)$, which is identical to the actual data distribution $P(X)$.\n",
        "\n",
        "But, you may say, if we could know $P(X)$ why compute $Q(X)$ at all? Fortunately, we do not have to. We can rewrite the KL divergence as:\n",
        "\n",
        "$$\\mathbb{D}_{KL}(P \\parallel Q) = \\sum_{i=1}^n p(x_i)\\ ln_b p(x_i) - \\sum_{i=1}^n p(x_i)\\ ln_b q(x_i)$$\n",
        "\n",
        "Since $P(X)$ is fixed and we wish to find $Q(X)$ when we train our model, we can minimize the term on the right, which is the **cross entropy** defined as:\n",
        "\n",
        "$$\\mathbb{H}(P,Q) = - \\sum_{i=1}^n p(x_i)\\ ln_b q(x_i)$$\n",
        "\n",
        "From the formulation of KL divergence above you can see the following.\n",
        "\n",
        "$$\\mathbb{D}_{KL}(P \\parallel Q) = \\mathbb{H}(P) + \\mathbb{H}(P,Q)\\\\\n",
        "\\mathbb{D}_{KL}(P \\parallel Q) = Entropy(P) + Cross\\ Entropy(P,Q)$$\n",
        "\n",
        "Thus, we can minimize divergence by minimizing cross entropy. This idea is both intuitive and computationally attractive. The closer the estimated distribution $q(X)$ is to the distribution of the true underling process $p(X)$, the lower the cross entropy and the lower the KL divergence.\n",
        "\n",
        "In general we will not know $p(X)$. In fact, if we did, why would we need to solve a training problem? So, we can use the following approximation.\n",
        "\n",
        "$$\\mathbb{H}(P,Q) = - \\frac{1}{N} \\sum_{i=1}^n ln_b q(x_i)$$\n",
        "\n",
        "You may notice, that this approximation, using the average log likelihood, is equivalent to a maximum likelihood estimator (MLE)."
      ]
    },
    {
      "cell_type": "markdown",
      "metadata": {
        "id": "DsxyMRgzWQl3"
      },
      "source": [
        "Let's look at a specific case of a model with Gaussian likelihood. What is the cross entropy? We can start by thinking about the definition of likelihood.\n",
        "\n",
        "$$p(data|model) = p(data|f(\\theta)) = p(x_i|f(\\hat{\\mu},\\sigma))= \\frac{1}{2 \\pi \\sigma^2} e^{\\frac{-(x_i - \\hat{\\mu})^2}{2 \\sigma^2}}$$\n",
        "\n",
        "We take the negative logarithm of this likelihood model.\n",
        "\n",
        "$$-log\\big(p(data|model) \\big) = - \\frac{1}{2}\\big( log( 2 \\pi \\sigma^2) + \\frac{(x_i - \\hat{\\mu})^2}{2 \\sigma^2} \\big)$$\n",
        "\n",
        "Now, the first term on the right is a constant, as is the denominator of the second term if we assume known variance. Since our goal is to minimize cross entropy, we can eliminate these quantities and be left with just the following.\n",
        "\n",
        "$$-(x_i - \\hat{\\mu})^2$$\n",
        "\n",
        "This is one issue we need to deal with. Our formulation of cross entropy involves the unknown true distribution of the underling process $p(X)$. However, since $p(x_i)$ is fixed but unknown we can just write the following.\n",
        "\n",
        "$$min \\big( \\mathbb{H}(P,Q) \\big) \\propto argmin_{\\mu} \\big( - \\sum_{i=1}^n (x_i - \\hat{\\mu})^2 \\big)$$\n",
        "\n",
        "This is just the definition of a Maximum Likelihood Estimator (MLE) for the least squares problem! In fact, since the cross entropy is computed using the negative log likelihood, it will always be minimized by the MLE.\n",
        "\n",
        "You can see another example of [cross-entropy error function and logistic regression](https://en.wikipedia.org/wiki/Cross_entropy)."
      ]
    },
    {
      "cell_type": "markdown",
      "metadata": {
        "id": "1eAM-LRrWQl3"
      },
      "source": [
        "### 3.2 Computing Loss functions\n",
        "\n",
        "The loss function is used to train the model. Therefore the loss function must be computed in an efficient manner.\n",
        "\n",
        "Given the number of parameters in deep neural nets over-fitting is inevitable. Therefore some regularization is required. We will discuss regularization in greater depth in another lesson. For now, we will just use the following regularized form.\n",
        "\n",
        "$$\\mathbb{H}(P,Q) = J(\\theta) = - \\frac{1}{N}\\sum_{i=1}^n ln_b q(x_i|\\theta) + \\lambda ||\\theta||^2\\\\\n",
        "where\\\\\n",
        "- \\frac{1}{N}\\sum_{i=1}^n ln_b q(x_i|\\theta) = J_{MLE}(\\theta)\\\\\n",
        "||\\theta||^2 = L^2\\ norm\\ regularization\\ term$$\n",
        "\n",
        "To minimize $J(\\theta)$ in this form $\\theta$ must be chosen to keep $||\\theta||^2$ small while minimizing the negative log likelihood of $q(x_i|\\theta)$.\n",
        "\n",
        "Let's  consider how we would compute this form of the lost function. The computational graph shown below illustrates the computational path for the regularize d loss function. For simplicity, no bias terms are considered.\n",
        "\n",
        "<img src=\"https://github.com/whendo/CSCI-E25/blob/assignment5/Labs/img/CompGraph2.jpg?raw=1\" alt=\"Drawing\" style=\"width:600px; height:300px\"/>\n",
        "<center>Figure 3.1  \n",
        "Computational graph for computing loss of fully connected neural network of Figure 2.3 </center>\n",
        "\n",
        "\n"
      ]
    },
    {
      "cell_type": "markdown",
      "metadata": {
        "id": "Tg1hfVoTWQl3"
      },
      "source": [
        "### 3.3 Chain rule of calculus\n",
        "\n",
        "Key to the back propagation algorithm is the chain rule of calculus; not to be confused with the chain rule of probability. The chain rule allows us to back propagate gradients though an arbitrarily complex graph of functions.\n",
        "\n",
        "Now, suppose there is a function $y = g(x)$, and another function $z = f(y) = f(g(x))$. How do we compute the derivative of $z$ with respect to $x$? Applying the chain rule we get:\n",
        "\n",
        "$$\\frac{dz}{dx} = \\frac{dz}{dy}\\frac{dy}{dx}$$\n",
        "\n",
        "Consider $x \\in R^M$ $g(x) \\Rightarrow R^M$ and $ f(y) \\Rightarrow z \\in R$. The chain rule becomes:\n",
        "\n",
        "$$\\frac{\\partial z}{\\partial x} = \\sum_{j \\in M} \\frac{\\partial z}{\\partial y_j}\\frac{\\partial y_j}{\\partial x_i}$$\n",
        "\n",
        "Which we can rewrite as  \n",
        "\n",
        "$$\\nabla_{x}z = \\Big( \\frac{\\partial x}{\\partial y} \\Big)^T \\nabla_{y}z$$"
      ]
    },
    {
      "cell_type": "markdown",
      "metadata": {
        "id": "zsgy-x-NWQl4"
      },
      "source": [
        "Here, $\\frac{\\partial x}{\\partial y}$ is the $n x m$ **Jacobian matrix** of partial derivatives. The Jacobian is multiplied by the gradient with respect to $y$, $\\nabla_{y}z$. You can think of the Jacobian as a transformation for a gradient with respect to $y$ to what we really want, the gradient with respect to $z$."
      ]
    },
    {
      "cell_type": "markdown",
      "metadata": {
        "id": "aMpGm1GRWQl4"
      },
      "source": [
        "### 3.4 Example of finding a gradient.\n",
        "\n",
        "Let's work out backpropagation for a very simple neural network with a just an input layer and an output layer. This neural network, including the loss function, is shown in Figure 3.2 below. This network has been highly simplified. There are only three layers, input layer, a two unit hidden layer with no bias terms, and a single unit output layer. There are only two weight tensors for this network. Further, the hidden units use rectilinear activation and the output unit uses linear activation. These activation functions have simple partial derivatives.  \n",
        "\n",
        "<img src=\"https://github.com/whendo/CSCI-E25/blob/assignment5/Labs/img/LossGraph.jpg?raw=1\" alt=\"Drawing\" style=\"width:600px; height:300px\"/>\n",
        "<center>Figure 3.2\n",
        "Simple single layer neural network with loss function </center>\n",
        "\n",
        "To analyze this network we will refer to the computational graph shown in Figure 3.1 above.\n",
        "\n",
        "First, we need to work out the forward propagation relationships. We can compute the outputs of the hidden layer as follows.\n",
        "\n",
        "$$S_{\\{1,2\\}} = \\sigma_h \\big( W^1 \\cdot X_{\\{1,2\\}} \\big) = \\sigma \\big( \\sum_j W^1_{i,j} x_j \\big)$$  \n",
        "\n",
        "In the same way, the result from the output layer can be computed as follows, since the activation function for this layer is linear.\n",
        "\n",
        "$$S_3 = W^2 \\cdot S_{\\{1,2\\}} = \\sum_i W^2_i \\sigma \\big( \\sum_j W^1_{i,j} x_j \\big)$$"
      ]
    },
    {
      "cell_type": "markdown",
      "metadata": {
        "id": "jM7ua79iWQl4"
      },
      "source": [
        "To perform backpropagation, we need fill out the gradient vector by computing $\\frac{\\partial J(W)}{\\partial W}$ for each weight in the model.\n",
        "\n",
        "$$\\frac{\\partial J(W)}{\\partial W} =\n",
        "\\begin{bmatrix}\n",
        "\\frac{\\partial J(W)}{\\partial W^2_{11}} \\\\\n",
        "\\frac{\\partial J(W)}{\\partial W^2_{12}} \\\\\n",
        "\\frac{\\partial J(W)}{\\partial W^2_{21}} \\\\\n",
        "\\frac{\\partial J(W)}{\\partial W^2_{22}} \\\\\n",
        "\\frac{\\partial J(W)}{\\partial W^1_{1}} \\\\\n",
        "\\frac{\\partial J(W)}{\\partial W^1_{2}}\n",
        "\\end{bmatrix}$$"
      ]
    },
    {
      "cell_type": "markdown",
      "metadata": {
        "id": "osgoIMPkWQl4"
      },
      "source": [
        "To keep things simple in this example we will just use a non-normalized squared error loss function. This is just the MLE estimator (without normalization) for a Gaussian distribution.\n",
        "\n",
        "$$J(W) = - \\frac{1}{2} \\sum_{l=1}^n (y_l - S_{3,l})^2 $$\n",
        "\n",
        "Where:  \n",
        "$y_k = $ the label for the lth case.     \n",
        "$\\hat{y_k} = S_{3,k} =$ the output of the network for the lth case.\n",
        "\n",
        "We want to compute the gradients with respect to the input and output tensors:\n",
        "\n",
        "$$\\frac{\\partial J(W)}{\\partial W^1}, \\ \\frac{\\partial J(W)}{\\partial W^2}$$"
      ]
    },
    {
      "cell_type": "markdown",
      "metadata": {
        "id": "iMG4HIwZWQl4"
      },
      "source": [
        "Let's start with the easier case of the partial derivatives with respect to the output tensor. We can apply the chain rule as follows:\n",
        "\n",
        "$$\\frac{\\partial J(W)}{\\partial W^2_k} = \\frac{\\partial  J(W)}{\\partial S_{3,k}} \\frac{\\partial S_{3,k}}{\\partial W^2_k}$$\n",
        "\n",
        "The first partial derivative of the chain is:\n",
        "\n",
        "$$\\frac{\\partial J(W)}{\\partial S_{3,k}} = \\frac{\\partial - \\frac{1}{2} (y_k - S_{3,k})^2} {\\partial S_{3,k}} = y_k - S_{3,k} $$\n",
        "\n",
        "And, the partial derivative of the second partial derivative in the chain, given the linear activation of the output unit:\n",
        "\n",
        "$$\\frac{\\partial S_{3,k}}{\\partial W^2_k} = \\frac{\\partial W^2_k S_{j,k}}{\\partial W^2_k}  = S_{j,l}, \\ j \\in \\{1,2\\}$$\n",
        "\n",
        "Multiplying the two components of the chain gives us:\n",
        "\n",
        "$$\\frac{\\partial J(W)}{\\partial W^2_k} = S_{j,k} (y_k - S_{3,k}), \\ j \\in \\{1,2\\} $$"
      ]
    },
    {
      "cell_type": "markdown",
      "metadata": {
        "id": "JS2CNHW-WQl4"
      },
      "source": [
        "The partial derivatives with respect to the input tensor are a bit more complicated. To apply the chain rule we must work backwards from the loss function. This gives the following chain:\n",
        "\n",
        "$$\\frac{\\partial J(W)}{\\partial W^1_{i,j}} =  \\frac{\\partial J(W)}{\\partial S_{3}} \\frac{\\partial S_{3}}{\\partial S_{j}} \\frac{\\partial S_{j}}{\\partial W^1_{i,j}}$$\n",
        "\n",
        "First, we find the right most partial derivative in our chain:\n",
        "\n",
        "\\begin{equation}\n",
        "\\frac{\\partial S_j}{\\partial W^1_{i,j}} =\n",
        "\\begin{cases}\n",
        "     \\frac {\\partial W^1_{i,j} x_{i,k}}{\\partial W^1_{i,j}}, & \\text{if $S_j>0$} \\\\\n",
        "    0, & \\text{otherwise}\n",
        "  \\end{cases}\n",
        "\\end{equation}\n",
        "\n",
        "Which given the ReLU activation results in:\n",
        "\n",
        "\\begin{equation}\n",
        "\\frac{\\partial S_j}{\\partial W^1_{i,j}} =\n",
        "\\begin{cases}\n",
        "    1, & \\text{if $S_j>0$}  \\\\\n",
        "    0, & \\text{otherwise}\n",
        "  \\end{cases}\n",
        "\\end{equation}\n",
        "\n",
        "\n",
        "The middle partial derivative must account for the nonlinearity:\n",
        "\n",
        "$$\\frac{\\partial S_{3}}{\\partial S_{j}} = W^2_j$$\n",
        "\n",
        "We have already computed $\\frac{\\partial J(W)}{\\partial S_{3}}$. Multiplying all three partial derivatives we find:\n",
        "\n",
        "\\begin{equation}\n",
        "\\frac{\\partial J(W)}{\\partial W^1_{i,j}} =\n",
        "\\begin{cases}\n",
        "    (y_k - S_{3,k}) W^2_j, & \\text{if $S_j>0$} \\\\\n",
        "    0, & \\text{otherwise}\n",
        "  \\end{cases}\n",
        "\\end{equation}\n",
        "\n",
        "Where $S_3$ and $S_{\\{1,2 \\}}$ are computed using the relationships given above.\n",
        "\n",
        "A more detailed, but still digestable example of computing gradients for backpropagation can be found in a blog post by [Manfred Zaharauskas](http://blog.manfredas.com/backpropagation-tutorial/), among many other places."
      ]
    },
    {
      "cell_type": "markdown",
      "metadata": {
        "id": "PoIbz035WQl9"
      },
      "source": [
        "## 4.0 Creating a Model With Keras      \n",
        "\n",
        "You will now create and test a first deep learning classifier model for the MNIST dataset using Keras. The fully connected model has one hidden layer.            "
      ]
    },
    {
      "cell_type": "markdown",
      "metadata": {
        "id": "MR68bSJqWQl9"
      },
      "source": [
        "### 4.1 Preparing the Dataset      \n",
        "\n",
        "You have already worked with the MNIST dataset. To load these data and prepare them for the Keras model execute the code in the cell below.      "
      ]
    },
    {
      "cell_type": "code",
      "execution_count": 14,
      "metadata": {
        "id": "EpmS9ckMWQl9",
        "outputId": "8091427a-8bf5-408c-c1c5-7819965bdb92",
        "colab": {
          "base_uri": "https://localhost:8080/"
        }
      },
      "outputs": [
        {
          "output_type": "stream",
          "name": "stdout",
          "text": [
            "Downloading data from https://storage.googleapis.com/tensorflow/tf-keras-datasets/mnist.npz\n",
            "11490434/11490434 [==============================] - 0s 0us/step\n",
            "(60000, 784)\n",
            "(10000, 784)\n"
          ]
        }
      ],
      "source": [
        "(train_images, train_labels), (test_images, test_labels) = mnist.load_data()\n",
        "train_images = train_images.reshape((60000, 28*28)).astype('float32')/255\n",
        "print(train_images.shape)\n",
        "test_images = test_images.reshape((10000, 28*28)).astype('float32')/255\n",
        "print(test_images.shape)"
      ]
    },
    {
      "cell_type": "code",
      "execution_count": 15,
      "metadata": {
        "id": "ALoXMfu1WQl9",
        "outputId": "152dbca9-d3a7-47e0-92a1-af3c63f13905",
        "colab": {
          "base_uri": "https://localhost:8080/"
        }
      },
      "outputs": [
        {
          "output_type": "execute_result",
          "data": {
            "text/plain": [
              "dtype('float32')"
            ]
          },
          "metadata": {},
          "execution_count": 15
        }
      ],
      "source": [
        "train_images.dtype"
      ]
    },
    {
      "cell_type": "markdown",
      "metadata": {
        "id": "ZGnxErjCWQl9"
      },
      "source": [
        "There is one more preprocessing step. The labels need to be [**one hot encoded**](https://www.kaggle.com/dansbecker/using-categorical-data-with-one-hot-encoding). One hot encoding transforms an $N$ level categorical variable into $N$ binary columns. One column represents one category. A 1 or binary true value is encoded in the column of a given category with the other columns coded as 0 or false.          \n",
        "\n",
        "> **Exercise 5-3:** You will now one hot encoded the label vectors of the training and test data. Use the [keras.utils.np_utils.to_categorical](https://www.tensorflow.org/api_docs/python/tf/keras/utils/to_categorical) function to create the one hot encoded labels. Print the first 10 rows of the training labels. You will need to set options to display all columns.   "
      ]
    },
    {
      "cell_type": "code",
      "execution_count": 30,
      "metadata": {
        "scrolled": true,
        "id": "n_dFWJ5bWQl-",
        "outputId": "522757bc-f2ee-4b98-a305-2682a702d7fe",
        "colab": {
          "base_uri": "https://localhost:8080/"
        }
      },
      "outputs": [
        {
          "output_type": "stream",
          "name": "stdout",
          "text": [
            "[[0 0 0 0 0 1 0 0 0 0]\n",
            " [1 0 0 0 0 0 0 0 0 0]\n",
            " [0 0 0 0 1 0 0 0 0 0]\n",
            " [0 1 0 0 0 0 0 0 0 0]\n",
            " [0 0 0 0 0 0 0 0 0 1]\n",
            " [0 0 1 0 0 0 0 0 0 0]\n",
            " [0 1 0 0 0 0 0 0 0 0]\n",
            " [0 0 0 1 0 0 0 0 0 0]\n",
            " [0 1 0 0 0 0 0 0 0 0]\n",
            " [0 0 0 0 1 0 0 0 0 0]]\n"
          ]
        }
      ],
      "source": [
        "## Put your code below\n",
        "train_labels = tf.keras.utils.to_categorical(\n",
        "    train_labels,\n",
        "    num_classes=None,\n",
        "    dtype='int32'\n",
        ")\n",
        "\n",
        "test_labels = tf.keras.utils.to_categorical(\n",
        "    test_labels,\n",
        "    num_classes=None,\n",
        "    dtype='int32'\n",
        ")\n",
        "\n",
        "print(train_labels[:10])\n"
      ]
    },
    {
      "cell_type": "markdown",
      "metadata": {
        "id": "4Cyo-zqwWQl-"
      },
      "source": [
        "> Examine the printed one hot encoded labels. Does the number of columns correspond to the number of label categories and why is this expected?   \n",
        "> **End of exercise.**"
      ]
    },
    {
      "cell_type": "markdown",
      "metadata": {
        "id": "7c9r5_4ZWQl-"
      },
      "source": [
        "> **Answer:**  \n",
        "Yes, the number of label categories matches the number of columns in the one hot encoded matrix of labels. This is expected since each row is a unique combination of zeros and a one to reflect the number of options available in the label dataset.    "
      ]
    },
    {
      "cell_type": "markdown",
      "metadata": {
        "id": "zaO9RK61WQl-"
      },
      "source": [
        "## 4.2 Defining and Executing the Deep Learning Model\n",
        "\n",
        "It is now time to define the Keras neural network model. This model uses the [Keras **Sequential** class](https://keras.io/guides/sequential_model/). The model is constructed by **adding dense layers** with the `add` method. Hidden and output layers are specified by creating instances of the [Dense layer class](https://keras.io/api/layers/core_layers/dense/). An input data shape must be specified only for the input layer.         "
      ]
    },
    {
      "cell_type": "markdown",
      "metadata": {
        "id": "LYXZJ6C5WQl-"
      },
      "source": [
        "> **Exercise 5-4:** You will now specify, [compile and fit](https://keras.io/api/models/model_training_apis/) the neural network model by the following steps:     \n",
        "> 1. Define the sequential model by instantiating a model object using [`models.Sequential`](https://keras.io/guides/sequential_model/). Name your model `nn`. Then add layers:  \n",
        ">   - Add a [dense input layer](https://keras.io/api/layers/core_layers/dense/) with $28 \\times 28$ hidden units, rectalinear (`relu`) activation and `input_shape=(28*28, )`.   \n",
        ">   - Add a dense hidden layer with 512 hidden units and rectalinear (`relu`) activation.     \n",
        ">   - Add a dense output output layer with `activation='softmax'`.     \n",
        "> 2. [Compile](https://keras.io/api/models/model_training_apis/) your model with the following arguments; `optimizer='rmsprop', loss='categorical_crossentropy', metrics=['accuracy']`. We will discuss optimizers in another lesson.\n",
        "> 3. Print a summary of the model with the `summary()` method.\n",
        "> 3. Fit your model, using the [fit()](https://keras.io/api/models/model_training_apis/) method, with the training images, training labels, and arguments; `epochs=5, batch_size=128`.   "
      ]
    },
    {
      "cell_type": "code",
      "execution_count": 31,
      "metadata": {
        "id": "vUvgKNDPWQl-",
        "outputId": "8397ff46-aa84-4507-e4fb-7e856c589298",
        "colab": {
          "base_uri": "https://localhost:8080/"
        }
      },
      "outputs": [
        {
          "output_type": "stream",
          "name": "stdout",
          "text": [
            "Model: \"sequential_1\"\n",
            "_________________________________________________________________\n",
            " Layer (type)                Output Shape              Param #   \n",
            "=================================================================\n",
            " dense_3 (Dense)             (None, 784)               615440    \n",
            "                                                                 \n",
            " dense_4 (Dense)             (None, 512)               401920    \n",
            "                                                                 \n",
            " dense_5 (Dense)             (None, 10)                5130      \n",
            "                                                                 \n",
            "=================================================================\n",
            "Total params: 1022490 (3.90 MB)\n",
            "Trainable params: 1022490 (3.90 MB)\n",
            "Non-trainable params: 0 (0.00 Byte)\n",
            "_________________________________________________________________\n",
            "Epoch 1/5\n",
            "469/469 [==============================] - 23s 45ms/step - loss: 0.2198 - accuracy: 0.9334\n",
            "Epoch 2/5\n",
            "469/469 [==============================] - 21s 45ms/step - loss: 0.0793 - accuracy: 0.9751\n",
            "Epoch 3/5\n",
            "469/469 [==============================] - 22s 48ms/step - loss: 0.0499 - accuracy: 0.9844\n",
            "Epoch 4/5\n",
            "469/469 [==============================] - 28s 59ms/step - loss: 0.0336 - accuracy: 0.9894\n",
            "Epoch 5/5\n",
            "469/469 [==============================] - 27s 57ms/step - loss: 0.0251 - accuracy: 0.9919\n"
          ]
        },
        {
          "output_type": "execute_result",
          "data": {
            "text/plain": [
              "<keras.src.callbacks.History at 0x7ca592662110>"
            ]
          },
          "metadata": {},
          "execution_count": 31
        }
      ],
      "source": [
        "# ## Your code goes here\n",
        "# Define the sequential model by instantiating a model object using models.Sequential. Name your model nn. Then add layers:\n",
        "nn = models.Sequential()\n",
        "# Add a dense input layer with  28×28  hidden units, rectalinear (relu) activation and input_shape=(28*28, ).\n",
        "nn.add(layers.Dense(28*28, activation='relu', input_shape=(28*28,)))\n",
        "# Add a dense hidden layer with 512 hidden units and rectalinear (relu) activation.\n",
        "nn.add(layers.Dense(512, activation='relu'))\n",
        "# Add a dense output output layer with activation='softmax'.\n",
        "nn.add(layers.Dense(10, activation='softmax'))\n",
        "# Compile your model with the following arguments; optimizer='rmsprop', loss='categorical_crossentropy', metrics=['accuracy']. We will discuss optimizers in another lesson.\n",
        "nn.compile(optimizer='rmsprop', loss='categorical_crossentropy', metrics=['accuracy'])\n",
        "# Print a summary of the model with the summary() method.\n",
        "nn.summary()\n",
        "# Fit your model, using the fit() method, with the training images, training labels, and arguments; epochs=5, batch_size=128.\n",
        "nn.fit(train_images, train_labels, epochs=5, batch_size=128)\n",
        "\n",
        "\n"
      ]
    },
    {
      "cell_type": "markdown",
      "metadata": {
        "id": "FIh9VLoyWQl_"
      },
      "source": [
        "> Answer these questions:  \n",
        "> 1. Why is the `categorical_crossentropy` the good choice loss function and `softmax` the correct choice for output activation for this model?\n",
        "> 2. Considering the number of training samples, and number of trainable model parameters, where do you think this model might lie along the bias-variance trade-off spectrum?   \n",
        "> 2. Examine the evolution of the loss function and accuracy. What do these figures tell you about learning for this model?  \n",
        "> **End or exercise.**"
      ]
    },
    {
      "cell_type": "markdown",
      "metadata": {
        "id": "9nWAvIgkWQl_"
      },
      "source": [
        "> **Answers:**\n",
        "> 1. Categorical Crossentropy is a good choice as a loss function because it's better as a multiple output loss function vs others better suited for binary or continuous outputs. Softmax is the correct choice for the output since it's also better for categorical data and is closely related to the categorical entropy loss function.    \n",
        "> 2. I would think that our model has low bias but high variance since we have a large number of training samples as well as a fairly large number of parameters, giving us a good chance to narrow down on our training data, but may cause issues with incoming test data that may differ some from the training set.    \n",
        "> 3.  One major effect of the loss function evolution is as the epochs increase, the accuracy seems to increase logrithmically, so we get far less benefite every time we run another epoch.  "
      ]
    },
    {
      "cell_type": "markdown",
      "metadata": {
        "id": "iPmfpUQYWQl_"
      },
      "source": [
        "### 4.3 Performance Metrics\n",
        "\n",
        "Now that we have the components for training a basic neural network in place we need a way to evaluate its performance. It turns out, there is nothing special about evaluation of neural network models as opposed to other machine learning models. For regression models, one typically use the standard metrics such as root mean square error (RMSE), mean absolute error (MAE). For classification models, one also typically uses the standard metrics including the confusion matrix, accuracy, precision and recall. The [Keras metrics package](https://keras.io/api/metrics/) provides numerous methods for model evaluation.\n",
        "\n",
        "Execute the code in the cell below to compute and display performance metrics for your model based on the test dataset."
      ]
    },
    {
      "cell_type": "code",
      "execution_count": 29,
      "metadata": {
        "id": "Hqi9meyxWQl_",
        "outputId": "8aa95238-a23f-43c3-f8f1-51b3e75d83de",
        "colab": {
          "base_uri": "https://localhost:8080/"
        }
      },
      "outputs": [
        {
          "output_type": "stream",
          "name": "stdout",
          "text": [
            "313/313 [==============================] - 6s 16ms/step - loss: 0.0767 - accuracy: 0.9812\n",
            "Test accuracy = 0.981   Test loss = 0.077\n"
          ]
        }
      ],
      "source": [
        "test_loss, test_accuracy = nn.evaluate(test_images, test_labels)\n",
        "print(\"Test accuracy = {0:.3f}   Test loss = {1:.3f}\".format(test_accuracy, test_loss))"
      ]
    },
    {
      "cell_type": "markdown",
      "metadata": {
        "id": "-NvND5UdWQl_"
      },
      "source": [
        "> **Exercise 5-5:** Compare the results of the evaluation with the same metrics achieved during model training. What does the difference tell you about the generalization for this model?  "
      ]
    },
    {
      "cell_type": "markdown",
      "metadata": {
        "id": "BfUd65KwWQl_"
      },
      "source": [
        "> **Answer:**\n",
        "The accuracy is slightly lower than it was with the training set, but not by much. This tells me the test set led to some generalization, but not enough to really hurt the model with this test set too much.      "
      ]
    },
    {
      "cell_type": "markdown",
      "metadata": {
        "id": "Vplz4x-yWQl_"
      },
      "source": [
        "## 5.0 Diagnosing Neural Network Training History   \n",
        "\n",
        "The Keras model `fit` method creates a [TensorFlow history object using callbacks](https://www.tensorflow.org/api_docs/python/tf/keras/callbacks/History). The information contained in the history object can be very useful in understanding model training; what is working and what is not.  \n",
        "\n",
        "Finding the a good set of hypterparameters for training any deep neural network can be a time consumming taks. **Do not expect your first choice of hypterparameters to be any good!**. Further, there is **no cut and paste from one problem to another.** Just because a particular set of hypterparamters resulted in a acceptable learning for one problem using one particular network does not mean that these hyperparameters will be suitable for any other problem or any other neural network.\n",
        "\n",
        "In the following exercises you will investigate a some commonly required steps to configure hypterparameters to allow a deep neural network toperform reasonable learning. The key to determining if a deep neural network is learning properly to study the evolution of the learning over the epochs. We want the curves of the evaluation metrics, such as loss and validation accuracy, to appear both smooth and with slowly changing slope. Once the model has been trained for a sufficient number of epochs, the metric curves should flatten, having essentially zero slope. The zero slope indicates the learning has ended. If the metric curves appear erratic, you know that the learning is not proceeding smoothly and is too agressive. If the curves have abrupt changes in slope this indicates the learning is too agressive as well. For example, a curve that has a sharp knee and then near zero slope can indicate that learning terminated prematurely.    \n",
        "\n",
        "We will apply the following methods to improve the learning of deep neural network models:        \n",
        "1. **Regularization** is necessary to ensure proper training of deep neural networks. If the model has insufficient regularization, the learning will be erratic with large jumps in the validation metrics, such as error rate and accuracy. On the other hand if too much regularization is applied, learning will be limited by the high bias in the model.    \n",
        "2. **Learning rate** must be set so that learning proceeds slowly and steadily. If the learning is too fast, the learning will terminate prematurely. The, typically local, solution for the weight parameters will be far from optimal. You can identify such cases by a steep curve that flattens out for the performance metrics. In other cases, the agressive learning will result in erratic curves of the learning metrics. However, if the learning is too slow the neural network will take an excessive number of epochs to reach a steady state where learning has ceased. You can identify such cases by metric curves that never really converge to a zero (flat) slope. However, keep in mind that with complex networks which require learning many parameters, a large number of training epochs may be required.      \n",
        "3. Generally, there is an **interaction between regularization and learning rate**. Changing hyperparamters for regulaizers can affect the optimal larning rate and vice versa.   \n",
        "\n",
        "Let's put these concepts into practice.  "
      ]
    },
    {
      "cell_type": "markdown",
      "metadata": {
        "id": "RkIK9qwkWQmA"
      },
      "source": [
        "> **Exercise 5-6:** You will now re-train your model while capturing a history. To retrain a model you must re-compile it first to create a fresh model object. Training an existing model object will continue the training of that object. This property of Keras models can be most useful for improving existing models when new training data becomes available. Do the following:      \n",
        "> 1. Compile the existing model using the same arguments as before.     \n",
        "> 2. Fit the model as before, but for 20 epochs and with an additional argument; `validation_data=(test_images, test_labels)`. Assign the results to a variable, `history_nn`.   \n",
        "> 3. Execute the code in the next two cells to display charts of training and test loss and accuracy.     "
      ]
    },
    {
      "cell_type": "code",
      "execution_count": null,
      "metadata": {
        "id": "I0pLSGMCWQmA",
        "outputId": "d7bd377a-ebb3-4d72-882a-502b56d11e20",
        "colab": {
          "base_uri": "https://localhost:8080/"
        }
      },
      "outputs": [
        {
          "output_type": "stream",
          "name": "stdout",
          "text": [
            "Epoch 1/20\n",
            "469/469 [==============================] - 26s 54ms/step - loss: 0.0176 - accuracy: 0.9944 - val_loss: 0.0693 - val_accuracy: 0.9807\n",
            "Epoch 2/20\n",
            "168/469 [=========>....................] - ETA: 14s - loss: 0.0111 - accuracy: 0.9964"
          ]
        }
      ],
      "source": [
        "## Your code goes here\n",
        "# Compile the existing model using the same arguments as before.\n",
        "nn.compile(optimizer='rmsprop', loss='categorical_crossentropy', metrics=['accuracy'])\n",
        "# Fit the model as before, but for 20 epochs and with an additional argument; validation_data=(test_images, test_labels). Assign the results to a variable, history_nn.\n",
        "history_nn = nn.fit(train_images, train_labels, epochs=20, batch_size=128, validation_data=(test_images, test_labels))\n",
        "# Execute the code in the next two cells to display charts of training and test loss and accuracy.\n",
        "\n",
        "\n",
        "\n"
      ]
    },
    {
      "cell_type": "markdown",
      "metadata": {
        "id": "UFIVkDIYWQmA"
      },
      "source": [
        "> Next, execute the code in the cell below to plot the training and validation loss and accuracy histories.   "
      ]
    },
    {
      "cell_type": "code",
      "execution_count": null,
      "metadata": {
        "id": "CYo-D7jzWQmA"
      },
      "outputs": [],
      "source": [
        "def plot_loss(history):\n",
        "    train_loss = history.history['loss']\n",
        "    test_loss = history.history['val_loss']\n",
        "    x = list(range(1, len(test_loss) + 1))\n",
        "    plt.plot(x, test_loss, color = 'red', label = 'test loss')\n",
        "    plt.plot(x, train_loss, label = 'traning loss')\n",
        "    plt.yscale('log')\n",
        "    plt.xlabel('Epoch')\n",
        "    plt.ylabel('Log Loss')\n",
        "    plt.title('Loss vs. Epoch')\n",
        "    plt.legend()\n",
        "    plt.show()\n",
        "\n",
        "def plot_accuracy(history):\n",
        "    train_acc = history.history['accuracy']\n",
        "    test_acc = history.history['val_accuracy']\n",
        "    x = list(range(1, len(test_acc) + 1))\n",
        "    plt.plot(x, test_acc, color = 'red', label = 'test accuracy')\n",
        "    plt.plot(x, train_acc, label = 'training accuracy')\n",
        "    plt.yscale('log')\n",
        "    plt.xlabel('Epoch')\n",
        "    plt.ylabel('Log Accuracy')\n",
        "    plt.title('Accuracy vs. Epoch')\n",
        "    plt.legend(loc='lower right')\n",
        "    plt.show()\n",
        "\n",
        "plot_loss(history_nn)\n",
        "plot_accuracy(history_nn)"
      ]
    },
    {
      "cell_type": "markdown",
      "metadata": {
        "id": "B2k1cRCDWQmA"
      },
      "source": [
        "> Examine the trajectory of the training and test loss and accuracy. What does the erratic and divergent trajectories of the loss and accuracy tell you about the learning and generalization of the model?       \n",
        "> **End of exercise.**    "
      ]
    },
    {
      "cell_type": "markdown",
      "metadata": {
        "id": "Hk0l_sHhWQmA"
      },
      "source": [
        "> **Answer:**      "
      ]
    },
    {
      "cell_type": "markdown",
      "metadata": {
        "id": "DDjQ9VOOWQmA"
      },
      "source": [
        "## 6.0 Adding Regularization        \n",
        "\n",
        "You have seen some of the effects of over-fitting of the neural network model. **Regularization** methods are widely used in machine learning to prevent over-fitting. Conceptually, you can think of regularization as moving the model toward lower variance and higher bias to improve generalization. There are several widely used regularizaiton methods for deep learning models. These methods are generally used in combinations.     \n",
        "- **L1 and L2 regularization** which we examined in some detail in the previous lesson.\n",
        "- **Weight decay** exponentially decays the learned weights toward 0. This process constrains the learning and prevents over-fitting. Any unusually large weights will decay back toward zero and therefore more reasonable values.          \n",
        "- **Batch Normalization** adjusts the output of a layer to ensure it is zero mean and unit variance. This process ensures that the results of the activations of a layer are not excessive that therefore result in over-fitting.         \n",
        "- **Dropout regularization** randomly drops connections (weights) between layers as the learning proceeds. The resulting model is then an ensemble of the weights learned from each of the randomly created models. This ensemble improves regularization and generalization of the model.   "
      ]
    },
    {
      "cell_type": "markdown",
      "metadata": {
        "id": "EMZ_yBM5WQmB"
      },
      "source": [
        "With so many options a search of possible regularization methods and hyperparamters is required. This search requires running a particular neural network architecture multiple times as hyperparameter combinations are tested. There are a number of approaches one can take to this search.      \n",
        "- **Grid search** wherein a regular grid of hyperparameter choices are tried. Grid search has the advantage of being comprehensive, but at a high computational cost.     \n",
        "- **Random sampling** wherein a grid of possible hyperparameter choices is randomly sampled and tested. This method can be significantly faster than a grid search, and is often nearly as effective.     \n",
        "- **Huristic search** is often performed manually, selecting hyperparamter combinations based on the results of previous combinations. We will employ huristic search in these exercises because of the simplicity.    \n",
        "\n",
        "In the case used for the following exercise, the following hyperparameter combinations where tried. Keep in mind, the exact validation metrics achieved will vary from one run to the next as a result of random sampling effects.\n",
        "\n",
        "| Validatiion Accuracy | L2 regularization | Learning rate | Weight decay | Batch normalization |   \n",
        "| -------------------- | ----------------- | ------------- | ------------ | ---------------------- |\n",
        "| .8979                | 0.05              |  0.00005      | 0.0001       |  None                  |\n",
        "| .8754               | 0.5              |  0.000005      | None      |  None                  |\n",
        "| .8763                | 0.05              |  0.000005      | 0.0001       |  None                  |\n",
        "| Erratic learning      | 0.005              |  0.0005      | 0.0001       |  None                  |\n",
        "| .9462               | 0.005              |  0.0005      | 0.01       |  None                  |\n",
        "\n",
        "Notice that the hypterparameters control several aspects of the model training.     \n",
        "1. The L2 affects the weights learned for the [Dense](https://keras.io/api/layers/core_layers/dense/) layer. Notice that regularizers can be applied to other weights, such as the bias. We will ignore these alternatives for now.     \n",
        "2. The momentum hypterparameter is the primary control for the behavior of the [BatchNormalization](https://keras.io/api/layers/normalization_layers/batch_normalization/) layer.      \n",
        "3. The [RMSprop](https://keras.io/api/optimizers/rmsprop/) optimizer has quite a number of hypterparameters. The learning rate and weight decay are the most important in general. Selecting an optimal value of momentum can be helpful in some cases. Other hypterparameters are helpful for cases where the optimizer fails to converge. It should be noted that it is not unusual for a particular choice of optimizer to not work well for a specific problem and neural network. Another optimizer can then be tried. Keras, like most deep learning frameworks, has a [long list of optimizers](https://keras.io/api/optimizers/) you can choose from.   \n",
        "\n",
        "> **Important note:** In the following examples we limit the search for optimal hyperparamters in several ways.\n",
        "> 1. We will only search a limited number of architectural alternatives. In this case, we will test models with and without batch normalization, a form of regularization. For a real-world problem, a more extensive search for optimal model architecure is often required. For example, we could try greater model depth, in the form of more fully connected layers, or we could experiment with adding dropout regularization layers.      \n",
        "> 2. We will only search a limited hyperparameter space. A full search would take considerable computing time, but could be worth the improvement if we were optimizing a model for real-world use.    \n",
        "> 3. We are limiting training time to just 80 epochs. For complex models it is typical to train for hundreds or even thousands of epochs."
      ]
    },
    {
      "cell_type": "markdown",
      "metadata": {
        "id": "44NLzn1SWQmB"
      },
      "source": [
        "> **Exercise 5-7:** You will now add L2 combined with weight decay regularization to the hidden layers of your model. Keras uses the [layer weight regularizer class](https://keras.io/api/layers/regularizers/) to add L1 and L2 weight constraints to the to layers. Here, we will only used the L2 regularizer. At the same time we must change the learing rate. Do the following:    \n",
        "> 1. Starting with the model specification you have been using for exercise 5-6, add the following argument to the input and hidden layer specificaition; `kernel_regularizer=regularizers.l2(0.005)` argument.    \n",
        "> 2. Compile the model with the 'optimizer=RMSprop(learning_rate=0.0005, decay=0.01)' argument. This code sets a learning rate and a weight decay parameter.  \n",
        "> 3. Fit the model for 80 epochs, saving the history object. This will take some time!   \n",
        "> 4. Plot the training and test loss and accuracy.\n",
        "\n",
        "> **Note on compatibility.**  Depending on the version of TensorFlow you are using the `decay` argument may acually be `weight_decay`. If you find an error of an unknown argument try changing to the other possibility.  "
      ]
    },
    {
      "cell_type": "code",
      "execution_count": null,
      "metadata": {
        "id": "WYglDIaUWQmB"
      },
      "outputs": [],
      "source": [
        "## Your code goes here\n",
        "\n",
        "\n",
        "\n"
      ]
    },
    {
      "cell_type": "markdown",
      "metadata": {
        "id": "vmQbyFtPWQmB"
      },
      "source": [
        "> Compare the charts of loss and accuracy for the regularized model with those from training the unregularized model. The shape of the training and validation metric curves is greatly improved. Now, answer these questions:    \n",
        "> 1. Do the charts and numeric metrics for the regularized model show an improvement in the generalization of the model compared to the unregularized model, and why?      \n",
        "> 2. Notice that the test and training loss of the regularized model continue to improve. Do you think that training for additional epochs will be beneficial?       \n",
        "> 3. Do the validation metrics show any sign of randomness and what does this tell you about the model architecture and the choice of hyperparameters?   \n",
        "> **End of exercise.**      "
      ]
    },
    {
      "cell_type": "markdown",
      "metadata": {
        "id": "fKhkvfUeWQmB"
      },
      "source": [
        "> **Answers:**    \n",
        "> 1.     \n",
        "> 2.    \n",
        "> 3.    "
      ]
    },
    {
      "cell_type": "markdown",
      "metadata": {
        "id": "_RUgjm2KWQmC"
      },
      "source": [
        "As a next step to improve the model we will add a batch normalization layer following the fully connected hidden layer. As a result of this change in architecture, we must perform another hyperparameter search. In this case, another huristic search is performed with a fixed momentum hyperparameter for the batch normalization.The results of the search are shown in the table.        \n",
        "\n",
        "| Validatiion Accuracy | L2 regularization | Learning rate | Weight decay | Batch normalization |   \n",
        "| -------------------- | ----------------- | ------------- | ------------ | ---------------------- |\n",
        "| .9752            | 0.2             |  0.00005      | None     |  Momentum=0.998                 |\n",
        "|Erratic learning  | 0.2             |  0.0005      | 0.001       |  Momentum=0.998                 |\n",
        "|Slow learning    | 0.02             |  0.00005      | 0.01       |  Momentum=0.998                 |\n",
        "|Slow learning    | 0.02             |  0.00005      | 0.01       |  Momentum=0.998                 |\n",
        "|.9789             | 0.2             |  0.0005      | 0.01       |  Momentum=0.998                 |"
      ]
    },
    {
      "cell_type": "markdown",
      "metadata": {
        "id": "tTt6h6SnWQmC"
      },
      "source": [
        "> **Exercise 5-8:** The path of the test loss and particularly the test accuracy of the foregoing model is rather erratic. Such behavior often indicates that the gradient is diffcult to estimate and therefore the optimizer exhibits poor convergence. Batch normalizaiton is known to smooth the loss function which improves the ability to consistently estimate gradient. You will now add a **[BatchNormalization layer](https://keras.io/api/layers/normalization_layers/batch_normalization/)** to the model, along with L2 regularization. Do the following:    \n",
        "> 1. Start with the model specification you used for Exercise 5-7, change the model name to `nnbr`.\n",
        "> 2. For the dense hidden layer set the L2 regularization hypterparameter to 0.2.  \n",
        "> 3. After the 512 unit hidden dense layer add a [BatchNormalization](https://keras.io/api/layers/normalization_layers/batch_normalization/) layer, using the argument `momentum=0.998`.\n",
        "> 4. Compile the model with the optimizer=RMSprop(learning_rate=0.0005, decay=0.01), argument.   \n",
        "> 5. Fit the model for 80 epochs, saving the history object. This will take some time!   \n",
        "> 6. Plot the training and test loss and accuracy.  "
      ]
    },
    {
      "cell_type": "code",
      "execution_count": null,
      "metadata": {
        "id": "GQ66Jbc9WQmC"
      },
      "outputs": [],
      "source": [
        "## Your code goes here\n",
        "\n",
        "\n",
        "\n",
        "\n"
      ]
    },
    {
      "cell_type": "markdown",
      "metadata": {
        "id": "swjoC_F4WQmC"
      },
      "source": [
        "> Compare the graphs to the train and test loss and train and test accuracy to the foregoing model without the batch normalization and answer these questions:  \n",
        "> 1. What does the difference in smoothness, especially for the test accruacy, tell you about the change in behavior of the gradient?     \n",
        "> 2. Notice the overall shape of the learning metric curves. What might the abrupt change in slope of the validation accuracy curve tell you about the learning rate?        \n",
        "> **End of exercise.**   "
      ]
    },
    {
      "cell_type": "markdown",
      "metadata": {
        "id": "AgOQQUYqWQmD"
      },
      "source": [
        "> **Answers:**\n",
        "> 1.      \n",
        "> 2.     "
      ]
    },
    {
      "cell_type": "markdown",
      "metadata": {
        "id": "JmXUN68NWQmD"
      },
      "source": [
        "## 7.0 Learning Rate Decay  \n",
        "\n",
        "The foregoing model training appears to have worked rather well. But, can we do better? One possibility is to use a **adaptive learning rate** or **decaying learning rate**. Keras, like most deep learning frameworks, provides [utilities to define decaying learning rate schedules](https://keras.io/api/optimizers/learning_rate_schedules/). Here we will work with an exponential learning rate. You can see specific examples of using this utility [here](https://keras.io/api/optimizers/learning_rate_schedules/exponential_decay/)."
      ]
    },
    {
      "cell_type": "markdown",
      "metadata": {
        "id": "vDPE0ZhQWQmD"
      },
      "source": [
        "| Validatiion Accuracy | L2 regularization | Learning rate | Weight decay | Batch normalization |   \n",
        "| -------------------- | ----------------- | ------------- | ------------ | ---------------------- |\n",
        "| .9810               | 0.2              |  initial rate=5e-5      | None      |  Momentum=0.998       |\n",
        "| Erratic results     | 0.2              |  initial rate=5e-4      | None      |  Momentum=0.998       |\n",
        "| Very slow learning  | 0.2              |  initial rate=5e-6      | None      |  Momentum=0.998       |\n",
        "| .9225              | 0.02              |  initial rate=5e-5      | 0.01      |  Momentum=0.998       |\n",
        "| .9258              | 0.002              |  initial rate=5e-5      | 0.01      |  Momentum=0.998       |\n",
        "| .9640            | 0.002              |  initial rate=5e-5      | 0.001      |  Momentum=0.998       |\n",
        "| .9644           | 0.0002              |  initial rate=5e-5      | 0.001      |  Momentum=0.998       |\n",
        "| .9779           | 0.0002              |  initial rate=5e-5      | 0.0001      |  Momentum=0.998       |"
      ]
    },
    {
      "cell_type": "markdown",
      "metadata": {
        "id": "Tt3t_MqHWQmD"
      },
      "source": [
        "> **Exercise 5-9:**  You will now implement and test a model with an exponentially decreasing learning rate:    \n",
        "> 1. Start with the model specification you used for Exercise 5-8, change the model name to `nnvr`.\n",
        "> 2. For the dense hidden layer set the L2 regularization hypterparameter to 0.2.  \n",
        "> 3. Create a learning rate schedule using the [Keras exponential learning rate scheduler] (https://keras.io/api/optimizers/learning_rate_schedules/exponential_decay/) with 'initial_learning_rate=5e-5', 'decay_steps=1000', 'decay_rate=0.9'.\n",
        "> 4. Compile the model with the optimizer=RMSprop(learning_rate=your_lerarning_rate_schedule), argument.   \n",
        "> 5. Fit the model for 80 epochs, saving the history object. This will take some time as before.   \n",
        "> 6. Plot the training and test loss and accuracy.  "
      ]
    },
    {
      "cell_type": "code",
      "execution_count": null,
      "metadata": {
        "id": "fgKUklyvWQmD"
      },
      "outputs": [],
      "source": [
        "## Your code goes here\n",
        "\n",
        "\n",
        "\n",
        "\n",
        "\n"
      ]
    },
    {
      "cell_type": "markdown",
      "metadata": {
        "id": "0wD9st7eWQmD"
      },
      "source": [
        "> Examine the results and answer these questions:       \n",
        "> 1. Compare the validation accuracy curve and final accuracy to the same curve and final accuracy value for the model trained with fixed learning rate. What do the differences in the curve and final learning rate tell you about the effect of using a variable learning rate?      \n",
        "> 2. Examine the shape of the training and validation curves. What does this shape tell you about the learning of this model?        \n",
        "> **End of exercise.**   "
      ]
    },
    {
      "cell_type": "markdown",
      "metadata": {
        "id": "NIwAerwdWQmE"
      },
      "source": [
        "> **Answers:**       \n",
        "> 1.    \n",
        "> 2.    "
      ]
    },
    {
      "cell_type": "markdown",
      "metadata": {
        "id": "5vPhh5_dWQmE"
      },
      "source": [
        "## 8.0 Dropout Regularization   \n",
        "\n",
        "Dropout regularization randomly drops (set to zero weight) connections in the neural network. The fraction of weights dropped is a hyperparameter which must be set. A good typical starting values is around 0.5. Emerical evidence indicates that results are not particularly sensitive to this value.      \n",
        "\n",
        "Here, the batch normalization layer has been replaced by a dropout regularization layer. This seemingly small change actually has a large effect on the model architecture. As a result, an extensive hyperparameter search was required to achieve good model performance. The hyperparameter choices tried are summarized in the table below.        \n",
        "\n",
        "You many wonder why the final model selected has lower accuacy than some other hyperparameter choices. These seemingly superior choices resulted in very odd convergence behavior of the model. In these cases the training metrics continued to improve considerably, whereas the validation metrics where stuck at a significantly different level. This outcome indicated that the model was in overfit or the training was stuck at some local optimum. To correct this problem, additional mild regularizaton was added. The regularization added bias to the model training, reducing the accuacy metric slightly, but corrected the problem of serious over-fitting.    \n",
        "\n",
        "> **Important note:** For the simplicity of our examples, we have substituted the dropout regularization layer for the batch normalization layer. You should not conclude from this example that one cannot or should not use both types of regularizers. In fact, in many deep architectures using both dropout regularization and batch normalization together is common practice.  "
      ]
    },
    {
      "cell_type": "markdown",
      "metadata": {
        "id": "4S-OeLN9WQmE"
      },
      "source": [
        "| Validatiion Accuracy | L2 regularization | Learning rate | Weight decay | Dropout rate |   \n",
        "| -------------------- | ----------------- | ------------- | ------------ | ---------------------- |\n",
        "| Very slow learning    | 0.2              |  initial rate=5e-5      | None      |  0.5       |\n",
        "|  Very slow learning     | 0.02              |  initial rate=5e-5      | None      |  0.5       |\n",
        "|  Very slow learning  | None             |  initial rate=5e-5      | 0.01      |  0.5       |\n",
        "| .9525   | None             |  initial rate=5e-5      | 0.0001   |  0.5       |\n",
        "| .9620  | None             |  initial rate=5e-5      | none   |  0.5       |\n",
        "| .9666  | None             |  initial rate=5e-5      | none   |  0.3       |\n",
        "| .9835, divergence between train and validation | None             |  initial rate=5e-4      | none   |  0.3       |\n",
        "| .9832, divergence between train and validation | None             |  initial rate=5e-4      | none   |  0.5       |\n",
        "| .9838, divergence between train and validation | None             |  initial rate=5e-4      | none   |  0.1       |\n",
        "| .9822, less divergence | 0.0002             |  inittheial rate=5e-4      | 0.0001  |  0.1       |\n",
        "| .9814 | 0.0002             |  initial rate=5e-4      | 0.0001   |  0.1       |\n"
      ]
    },
    {
      "cell_type": "markdown",
      "metadata": {
        "id": "bufASzV5WQmE"
      },
      "source": [
        "> **Exercise 5-10:**  You will now create and evaluate a model using a dropout regularization layer:   \n",
        "> 1. Start with the model specification you used for Exercise 5-9, change the model name to `nndo`.\n",
        "> 2. For the dense hidden layer set the L2 regularization hypterparameter to 0.0002.  \n",
        "> 3. Replace the batch normalization layer with a [Dropout regularization layer](https://keras.io/api/layers/regularization_layers/dropout/) with `rate=0.5`.\n",
        "> 4. Create a learning rate schedule using the [Keras exponential learning rate scheduler] (https://keras.io/api/optimizers/learning_rate_schedules/exponential_decay/) with 'initial_learning_rate=5e-4', 'decay_steps=1000', 'decay_rate=0.9'.\n",
        "> 4. Compile the model with the optimizer=RMSprop(learning_rate=lr_schedule, decay=0.0001), argument.   \n",
        "> 5. Fit the model for 80 epochs, saving the history object. This will take some time as before.   \n",
        "> 6. Plot the training and test loss and accuracy.  "
      ]
    },
    {
      "cell_type": "code",
      "execution_count": null,
      "metadata": {
        "id": "8Vy79azgWQmF"
      },
      "outputs": [],
      "source": [
        "## Your code goes here\n",
        "\n",
        "\n",
        "\n",
        "\n",
        "\n"
      ]
    },
    {
      "cell_type": "markdown",
      "metadata": {
        "id": "-WmKQrO0WQmF"
      },
      "source": [
        "> Examine the accuracy value achived and the curves for the training and validation metrics and answer these questions.      \n",
        "> 1. How do the final trajectory of the validation accuracy curve and validation accuracy compare to the perviously fit model using batch normalizatuion?                    \n",
        "> 2. Examine the change in slope in this curve, comparing it to the perviously fit model using batch normalizatuion. What might the difference in the shapes tell you about the learning of this new model?        "
      ]
    },
    {
      "cell_type": "markdown",
      "metadata": {
        "id": "ZCKfuJKoWQmF"
      },
      "source": [
        "> **Answers:**      \n",
        "> 1.       \n",
        "> 2.    "
      ]
    },
    {
      "cell_type": "markdown",
      "metadata": {
        "id": "r2VRiVNbWQmF"
      },
      "source": [
        "##### Copyright 2018, 2019, 2020, 2021, 2022, 2023, 2024, Stephen F Elston. All rights reserved"
      ]
    },
    {
      "cell_type": "code",
      "execution_count": null,
      "metadata": {
        "id": "O_OfsbyeWQmF"
      },
      "outputs": [],
      "source": []
    }
  ],
  "metadata": {
    "anaconda-cloud": {},
    "kernelspec": {
      "display_name": "Python 3 (ipykernel)",
      "language": "python",
      "name": "python3"
    },
    "language_info": {
      "codemirror_mode": {
        "name": "ipython",
        "version": 3
      },
      "file_extension": ".py",
      "mimetype": "text/x-python",
      "name": "python",
      "nbconvert_exporter": "python",
      "pygments_lexer": "ipython3",
      "version": "3.9.18"
    },
    "colab": {
      "provenance": []
    }
  },
  "nbformat": 4,
  "nbformat_minor": 0
}